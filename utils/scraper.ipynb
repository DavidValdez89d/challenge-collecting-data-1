{
 "cells": [
  {
   "cell_type": "code",
   "execution_count": 1,
   "metadata": {},
   "outputs": [
    {
     "name": "stderr",
     "output_type": "stream",
     "text": [
      "/opt/homebrew/lib/python3.10/site-packages/tqdm/auto.py:22: TqdmWarning: IProgress not found. Please update jupyter and ipywidgets. See https://ipywidgets.readthedocs.io/en/stable/user_install.html\n",
      "  from .autonotebook import tqdm as notebook_tqdm\n"
     ]
    }
   ],
   "source": [
    "import functools\n",
    "import itertools\n",
    "import requests\n",
    "import pandas as pd\n",
    "from tqdm.contrib.concurrent import thread_map"
   ]
  },
  {
   "cell_type": "code",
   "execution_count": 4,
   "metadata": {},
   "outputs": [],
   "source": [
    "def get_ids_from_page(i, property_type, session):\n",
    "    api_url = f\"https://www.immoweb.be/en/search-results/{property_type}/for-sale?countries=BE&page={i}&orderBy=newest&isALifeAnnuitySale=false\"\n",
    "    return [result['id'] for result in session.get(api_url).json()['results']]\n",
    "\n",
    "def get_ids_for_category(property_type, session):\n",
    "    return set(itertools.chain.from_iterable(thread_map(functools.partial(get_ids_from_page, property_type=property_type, session=session), range(1, 334))))\n",
    "\n",
    "def get_property(id, session):\n",
    "    property_url = f\"http://www.immoweb.be/en/classified/{id}\"\n",
    "    try:\n",
    "        tables = pd.read_html(session.get(property_url, timeout=5).text)\n",
    "        df = pd.concat(tables).set_index(0).T\n",
    "        df['id'] = id\n",
    "        df = df.set_index('id')\n",
    "        return df.loc[:, ~df.columns.duplicated()]\n",
    "    except:\n",
    "        return None\n",
    "\n",
    "def get_properties(ids, session, max_workers=64):\n",
    "    return pd.concat(thread_map(functools.partial(get_property, session=session), ids, max_workers=max_workers))"
   ]
  },
  {
   "cell_type": "code",
   "execution_count": 5,
   "metadata": {},
   "outputs": [
    {
     "name": "stderr",
     "output_type": "stream",
     "text": [
      "100%|██████████| 333/333 [00:13<00:00, 24.05it/s]\n",
      "100%|██████████| 333/333 [00:13<00:00, 25.29it/s]\n",
      "100%|██████████| 19980/19980 [05:27<00:00, 60.95it/s] \n"
     ]
    }
   ],
   "source": [
    "ids = set()\n",
    "with requests.Session() as session:\n",
    "    for property_type in ['apartment', 'house']:\n",
    "        ids.update(get_ids_for_category(property_type, session))\n",
    "    properties = get_properties(ids, session)"
   ]
  },
  {
   "cell_type": "code",
   "execution_count": 6,
   "metadata": {},
   "outputs": [],
   "source": [
    "properties.to_csv('properties.csv')"
   ]
  },
  {
   "cell_type": "code",
   "execution_count": null,
   "metadata": {},
   "outputs": [],
   "source": []
  }
 ],
 "metadata": {
  "kernelspec": {
   "display_name": "Python 3.10.6 64-bit",
   "language": "python",
   "name": "python3"
  },
  "language_info": {
   "codemirror_mode": {
    "name": "ipython",
    "version": 3
   },
   "file_extension": ".py",
   "mimetype": "text/x-python",
   "name": "python",
   "nbconvert_exporter": "python",
   "pygments_lexer": "ipython3",
   "version": "3.10.6"
  },
  "orig_nbformat": 4,
  "vscode": {
   "interpreter": {
    "hash": "b0fa6594d8f4cbf19f97940f81e996739fb7646882a419484c72d19e05852a7e"
   }
  }
 },
 "nbformat": 4,
 "nbformat_minor": 2
}
